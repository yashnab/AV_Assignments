{
 "cells": [
  {
   "cell_type": "markdown",
   "metadata": {},
   "source": [
    "# Assignment Python 1"
   ]
  },
  {
   "cell_type": "markdown",
   "metadata": {},
   "source": [
    "#### 1.   A number is a Disarium number if the sum of the digits raised to the power of its respective position in the original number is equal to that number itself.  Which of the following is the Disarium number ?\n",
    "\n",
    "* A.\t 89\n",
    "* B.\t175\n",
    "* C.\t123\n",
    "* D.\t131\n"
   ]
  },
  {
   "cell_type": "code",
   "execution_count": 49,
   "metadata": {},
   "outputs": [
    {
     "name": "stdout",
     "output_type": "stream",
     "text": [
      "89\n",
      "disarium number\n"
     ]
    }
   ],
   "source": [
    "num = int(input())\n",
    "rem = s = 0;    \n",
    "len = len(str(num))\n",
    "     \n",
    "#Makes a copy of the original number num    \n",
    "n = num;    \n",
    "     \n",
    "#Calculates the sum of digits powered with their respective position    \n",
    "while(num > 0):    \n",
    "    rem = num%10;    \n",
    "    s += int(rem**len);    \n",
    "    num = num//10;    \n",
    "    len -= 1;    \n",
    "     \n",
    "#Checks whether the sum is equal to the number itself    \n",
    "if(s == n):    \n",
    "    print( \"disarium number\");    \n",
    "else:    \n",
    "    print(\" not a disarium number\");    "
   ]
  },
  {
   "cell_type": "markdown",
   "metadata": {},
   "source": [
    "#### 3. A cricket player's statistics in the last 10 games are :__ \n",
    "#### Runs Scored : 23 , 56, 67, 9, 56, 90, 41, 40, 104, 3\n",
    "#### Balls Played : 45, 46, 90, 4, 44, 71, 70, 34, 81, 7\n",
    "\n",
    "#### What is the average number of runs scored by the player in the last 10 games ?\n",
    "\n",
    "#### What is the strike rate of a player in the last 10 games?\n"
   ]
  },
  {
   "cell_type": "code",
   "execution_count": 42,
   "metadata": {},
   "outputs": [
    {
     "name": "stdout",
     "output_type": "stream",
     "text": [
      "average number of runs scored by the player in the last 10 games is 48.9\n",
      "*-*-*-*-*-*-*-*-*-*-*-*-*-*-*-*-*-*-*-*-*-*-*-*-*-*-*-*-\n",
      "strike rate of a player in the last 10 games 99.39024390243902\n"
     ]
    }
   ],
   "source": [
    "list_1 = [23 , 56, 67, 9, 56, 90, 41, 40, 104, 3]\n",
    "list_2 = [45, 46, 90, 4, 44, 71, 70, 34, 81, 7]\n",
    "avg_run= sum(list_1)/10\n",
    "print(\"average number of runs scored by the player in the last 10 games is\", avg_run)\n",
    "print(\"*-*-*-*-*-*-*-*-*-*-*-*-*-*-*-*-*-*-*-*-*-*-*-*-*-*-*-*-\")\n",
    "\n",
    "\n",
    "strike_rate= (sum(list_1)/sum(list_2))*100\n",
    "print(\"strike rate of a player in the last 10 games\",strike_rate)"
   ]
  },
  {
   "cell_type": "markdown",
   "metadata": {},
   "source": [
    "#### 4. What is the value of the expression 100 / 25\n",
    "\n",
    "* A.\t 4\n",
    "* B.\t4.0\n",
    "* C.\t Both\n",
    "* D.\t None\n"
   ]
  },
  {
   "cell_type": "markdown",
   "metadata": {},
   "source": [
    "* B.\t4.0"
   ]
  },
  {
   "cell_type": "markdown",
   "metadata": {},
   "source": [
    "#### 5. What is the output of \n",
    "    (1.1 + 2.2 == 3.3) ?\n",
    "* A.\tTrue\n",
    "* B.\tFalse"
   ]
  },
  {
   "cell_type": "code",
   "execution_count": 35,
   "metadata": {},
   "outputs": [
    {
     "data": {
      "text/plain": [
       "False"
      ]
     },
     "execution_count": 35,
     "metadata": {},
     "output_type": "execute_result"
    }
   ],
   "source": [
    "(1.1 + 2.2 == 3.3)"
   ]
  },
  {
   "cell_type": "markdown",
   "metadata": {},
   "source": [
    "* B.\tFalse"
   ]
  },
  {
   "cell_type": "markdown",
   "metadata": {},
   "source": [
    "#### 6. Create a variable x with the value 10. Increase the value of x tenfold using an augmented assignment operator?"
   ]
  },
  {
   "cell_type": "code",
   "execution_count": 31,
   "metadata": {},
   "outputs": [
    {
     "name": "stdout",
     "output_type": "stream",
     "text": [
      "0\n",
      "10\n",
      "20\n",
      "30\n",
      "40\n",
      "50\n",
      "60\n",
      "70\n",
      "80\n",
      "90\n"
     ]
    }
   ],
   "source": [
    "x= 10\n",
    "for x in range(10):\n",
    "    print(x*10)"
   ]
  },
  {
   "cell_type": "markdown",
   "metadata": {},
   "source": [
    "#### 7.  Which of the following are valid Python variable names ?\n",
    "\n",
    "* A.\tVar1.3\n",
    "* B.\t4tower\n",
    "* C.\tAge\n",
    "* D.\tUpi_id\n",
    "* E.\tUpi66\n",
    "* F.\tReturn\n"
   ]
  },
  {
   "cell_type": "markdown",
   "metadata": {},
   "source": [
    "* C. Age\n",
    "* D. Upi_id\n",
    "* E. Upi66"
   ]
  },
  {
   "cell_type": "markdown",
   "metadata": {},
   "source": [
    "#### 8.  What is the value of Temperature 101.5 degree Celsius into degree Fahrenheit ?"
   ]
  },
  {
   "cell_type": "code",
   "execution_count": 22,
   "metadata": {},
   "outputs": [
    {
     "name": "stdout",
     "output_type": "stream",
     "text": [
      "214.7 degree Fahrenheit\n"
     ]
    }
   ],
   "source": [
    "C=101.5\n",
    "F = (C * 9/5) + 32\n",
    "print(F,\"degree Fahrenheit\")"
   ]
  },
  {
   "cell_type": "markdown",
   "metadata": {},
   "source": [
    "#### 9.What will be the value for x after executing the following code :-\n",
    "\n",
    "    x = 0\n",
    "    a = 0\n",
    "    b = -5\n",
    "    if a > 0:\n",
    "        if b < 0: \n",
    "            x = x + 5 \n",
    "        elif a > 5:\n",
    "            x = x + 4\n",
    "        else:\n",
    "            x = x + 3\n",
    "    else:\n",
    "        x = x + 2\n"
   ]
  },
  {
   "cell_type": "code",
   "execution_count": 17,
   "metadata": {},
   "outputs": [
    {
     "name": "stdout",
     "output_type": "stream",
     "text": [
      "2\n"
     ]
    }
   ],
   "source": [
    "x = 0\n",
    "a = 0\n",
    "b = -5\n",
    "if a > 0:\n",
    "    if b < 0: \n",
    "        x = x + 5 \n",
    "    elif a > 5:\n",
    "        x = x + 4\n",
    "    else:\n",
    "        x = x + 3\n",
    "else:\n",
    "    x = x + 2\n",
    "\n",
    "print(x)"
   ]
  },
  {
   "cell_type": "markdown",
   "metadata": {},
   "source": [
    "* since the value of a is not greater than 0 so else statement will be executed so the result would be 2"
   ]
  },
  {
   "cell_type": "markdown",
   "metadata": {},
   "source": [
    "#### 10. What will be the value of the following code :-\n",
    "\n",
    "    print( not ( not a == 10 or not b == 10) )\n"
   ]
  },
  {
   "cell_type": "code",
   "execution_count": 15,
   "metadata": {},
   "outputs": [
    {
     "name": "stdout",
     "output_type": "stream",
     "text": [
      "False\n"
     ]
    }
   ],
   "source": [
    "print( not ( not a == 10 or not b == 10) )"
   ]
  },
  {
   "cell_type": "markdown",
   "metadata": {},
   "source": [
    "* False"
   ]
  },
  {
   "cell_type": "markdown",
   "metadata": {},
   "source": [
    "#### 11. What does the following code print out?\n",
    "\n",
    "    print(\"123\" + \"abc\")\n",
    "\n",
    "* A.\thello world\n",
    "* B.\t123+abc\n",
    "* C.\tThis is a syntax error because you cannot add strings\n",
    "* D.\t123abc\n"
   ]
  },
  {
   "cell_type": "code",
   "execution_count": 14,
   "metadata": {},
   "outputs": [
    {
     "name": "stdout",
     "output_type": "stream",
     "text": [
      "123abc\n"
     ]
    }
   ],
   "source": [
    "print(\"123\" + \"abc\")"
   ]
  },
  {
   "cell_type": "markdown",
   "metadata": {},
   "source": [
    "* D.\t123abc"
   ]
  },
  {
   "cell_type": "markdown",
   "metadata": {},
   "source": [
    "#### 12. Which of these operators is not a comparison / logical operator?\n",
    "\n",
    "* A.\t=\n",
    "* B.\t==\n",
    "* C.\t<\n",
    "* D.\t>=\n",
    "* E.\t!=\n"
   ]
  },
  {
   "cell_type": "markdown",
   "metadata": {},
   "source": [
    "* A.\t="
   ]
  },
  {
   "cell_type": "markdown",
   "metadata": {},
   "source": [
    "#### 13. What is true about the following code segment:\n",
    "\n",
    "     if  x == 5 :\n",
    "       print('Is 5')\n",
    "       print('Is Still 5')\n",
    "       print('Third 5')\n",
    "\n",
    "\n",
    "* A.\tDepending on the value of x, either all three of the print statements will execute or none of the statements will execute\n",
    "* B.\tThe string 'Is 5' will always print out regardless of the value for x.\n",
    "* C.\tThe string 'Is 5' will never print out regardless of the value for x.\n",
    "* D.\tOnly two of the three print statements will print out if the value of x is less than zero.\n"
   ]
  },
  {
   "cell_type": "code",
   "execution_count": 13,
   "metadata": {},
   "outputs": [
    {
     "name": "stdout",
     "output_type": "stream",
     "text": [
      "Is 5\n",
      "Is Still 5\n",
      "Third 5\n"
     ]
    }
   ],
   "source": [
    "x=5\n",
    "if  x == 5 :\n",
    "    print('Is 5')\n",
    "    print('Is Still 5')\n",
    "    print('Third 5')\n"
   ]
  },
  {
   "cell_type": "markdown",
   "metadata": {},
   "source": [
    "* A.\tDepending on the value of x, either all three of the print statements will execute or none "
   ]
  },
  {
   "cell_type": "markdown",
   "metadata": {},
   "source": [
    "#### 14.  What value of 'x' will cause 'Something else' to print out? \n",
    "* A.\tThis code will never print 'Something else' regardless of the value for 'x'\n",
    "* B.\tx = -2\n",
    "* C.\tx = -2.0\n",
    "* D.\tx = 2.0"
   ]
  },
  {
   "cell_type": "code",
   "execution_count": 10,
   "metadata": {},
   "outputs": [
    {
     "name": "stdout",
     "output_type": "stream",
     "text": [
      "Below 2\n"
     ]
    }
   ],
   "source": [
    "x=-2\n",
    "if x < 2 :\n",
    "    print('Below 2')\n",
    "elif x >= 2 :\n",
    "     print('Two or more')\n",
    "else :\n",
    "    print('Something else')"
   ]
  },
  {
   "cell_type": "markdown",
   "metadata": {},
   "source": [
    "* A.\tThis code will never print 'Something else' regardless of the value for 'x'"
   ]
  },
  {
   "cell_type": "code",
   "execution_count": null,
   "metadata": {},
   "outputs": [],
   "source": []
  }
 ],
 "metadata": {
  "kernelspec": {
   "display_name": "Python 3",
   "language": "python",
   "name": "python3"
  },
  "language_info": {
   "codemirror_mode": {
    "name": "ipython",
    "version": 3
   },
   "file_extension": ".py",
   "mimetype": "text/x-python",
   "name": "python",
   "nbconvert_exporter": "python",
   "pygments_lexer": "ipython3",
   "version": "3.7.6"
  }
 },
 "nbformat": 4,
 "nbformat_minor": 4
}
