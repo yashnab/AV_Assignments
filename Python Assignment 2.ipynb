{
 "cells": [
  {
   "cell_type": "markdown",
   "metadata": {},
   "source": [
    "1.\tThe Monty Hall problem is a well-known puzzle in probability derived from an American game show, Let’s Make a Deal. (The original 1960s-era show was hosted by Monty Hall, giving this puzzle its name.) Intuition leads many people to get the puzzle wrong, and when the Monty Hall problem is presented in a newspaper or discussion list, it often leads to a lengthy argument in letters-to-the-editor and on message boards.\n",
    "\n",
    "The game is played like this:\n",
    "\n",
    "* The game show set has three doors. A prize such as a car or vacation is behind one door, and the other two doors hide a valueless prize called a Zonk; in most discussions of the problem, the Zonk is a goat.\n",
    "* The contestant chooses one door. We’ll assume the contestant has no inside knowledge of which door holds the prize, so the contestant will just make a random choice.\n",
    "* The smiling host Monty Hall opens one of the other doors, always choosing one that shows a goat, and always offers the contestant a chance to switch their choice to the remaining unopened door.\n",
    "The contestant either chooses to switch doors, or opts to stick with the first choice.\n",
    "* Monty calls for the remaining two doors to open, and the contestant wins whatever is behind their chosen door.\n",
    "* Let’s say a hypothetical contestant chooses door #2. Monty might then open door #1 and offer the chance to switch to door #3. The contestant switches to door #3, and then we see if the prize is behind #3.\n",
    "\n",
    "The puzzle is to identify if switching increases the chance of winning the car, decreases it, or makes no difference? Use python code to play this game multiple times  (1000) and analyse your observations ?\n"
   ]
  },
  {
   "cell_type": "code",
   "execution_count": 4,
   "metadata": {},
   "outputs": [
    {
     "name": "stdout",
     "output_type": "stream",
     "text": [
      "Total time for Loop   8.28566026687622\n"
     ]
    },
    {
     "data": {
      "image/png": "[encoded data removed]",
      "text/plain": [
       "<Figure size 432x288 with 1 Axes>"
      ]
     },
     "metadata": {
      "needs_background": "light"
     },
     "output_type": "display_data"
    },
    {
     "data": {
      "image/png": "[encoded data removed]",
      "text/plain": [
       "<Figure size 432x288 with 1 Axes>"
      ]
     },
     "metadata": {
      "needs_background": "light"
     },
     "output_type": "display_data"
    },
    {
     "name": "stdout",
     "output_type": "stream",
     "text": [
      "Averge Wins nan\n"
     ]
    }
   ],
   "source": [
    "%matplotlib inline\n",
    "import matplotlib\n",
    "import numpy as np\n",
    "import matplotlib.pyplot as plt\n",
    "from time import time as TT\n",
    "from random import choice as ch\n",
    "import numpy as np\n",
    "\n",
    "ac = []\n",
    "tc = []\n",
    "N = []\n",
    "st = TT()\n",
    "for M in range(1,1000): #Outer loop from 1 to 1000\n",
    "    st1 = TT()\n",
    "    score = []\n",
    "    runs = 0\n",
    "    cards = [1,2,3]\n",
    "    for K in range(1,M): # sub loop that simulates 1 to M(outerloop) games\n",
    "        aset = []\n",
    "        host = cards.copy()\n",
    "        hbk = ch(host) #Randomly choose as answer which host knows\n",
    "        aset.append(hbk)\n",
    "        #print(\"The host knows the answer\",hbk)\n",
    "        player = cards.copy()\n",
    "        px = ch(player) # Contestanrs random guess\n",
    "        aset.append(px)\n",
    "        #print (\"Players first choice\",px)\n",
    "        chance = 0\n",
    "        for i in host: # The computation....host will eliminate P(X|DOOR) = 0\n",
    "            if i not in aset:\n",
    "                chance = i\n",
    "        #print (\"The elimination\",chance)\n",
    "        #print (player)\n",
    "        player.pop(player.index(chance))\n",
    "        player.pop(player.index(px))\n",
    "        #print (\"final answe\",player)\n",
    "        if player[0] == hbk:\n",
    "            score.append(1)\n",
    "        else:\n",
    "            score.append(0)\n",
    "        runs = K\n",
    "        #print (\"\\n\\n\")\n",
    "    ac.append(np.mean(score))\n",
    "    N.append(M)\n",
    "    en1 = TT()\n",
    "    tc.append(en1-st1)\n",
    "en = TT()\n",
    "print (\"Total time for Loop  \", en - st )\n",
    "\n",
    "plt.plot(N,ac)\n",
    "plt.show()\n",
    "\n",
    "plt.plot(N,tc)\n",
    "plt.show()\n",
    "\n",
    "print (\"Averge Wins\",np.mean(ac))"
   ]
  },
  {
   "cell_type": "markdown",
   "metadata": {},
   "source": [
    "2.\tLet's say there are 23 employees in any office party. What is the probability that at least two of the employees will have the same birthday ?\n",
    "\n",
    "A.\t0.25\n",
    "B.\t0.50\n",
    "C.\t0.75\n",
    "D.\tCan not Say\n"
   ]
  },
  {
   "cell_type": "code",
   "execution_count": 7,
   "metadata": {},
   "outputs": [
    {
     "name": "stdout",
     "output_type": "stream",
     "text": [
      "Estimated P(ALOC) after 10000 trials: 0.5038\n"
     ]
    }
   ],
   "source": [
    "from random import randint\n",
    " \n",
    "NUM_PEOPLE = 23\n",
    "NUM_POSSIBLE_BIRTHDAYS = 365\n",
    "NUM_TRIALS = 10000\n",
    " \n",
    "def generate_random_birthday():\n",
    "    birthday = randint(1, NUM_POSSIBLE_BIRTHDAYS)\n",
    "    return birthday\n",
    " \n",
    "def generate_k_birthdays(k):\n",
    "    birthdays = [generate_random_birthday() for _ in range(k)]\n",
    "    return birthdays\n",
    " \n",
    "def aloc(birthdays):\n",
    "    unique_birthdays = set(birthdays)\n",
    "    num_birthdays = len(birthdays)\n",
    "    num_unique_birthdays = len(unique_birthdays)\n",
    "    has_coincidence = (num_birthdays != num_unique_birthdays)\n",
    "    return has_coincidence\n",
    "    \n",
    "def estimate_p_aloc():\n",
    "    num_aloc = 0\n",
    "    for _ in range(NUM_TRIALS):\n",
    "        birthdays = generate_k_birthdays(NUM_PEOPLE)\n",
    "        has_coincidence = aloc(birthdays)\n",
    "        if has_coincidence:\n",
    "            num_aloc += 1\n",
    "    p_aloc = num_aloc / NUM_TRIALS\n",
    "    return p_aloc\n",
    " \n",
    "p_aloc = estimate_p_aloc()\n",
    "print(f\"Estimated P(ALOC) after {NUM_TRIALS} trials: {p_aloc}\")"
   ]
  },
  {
   "cell_type": "markdown",
   "metadata": {},
   "source": [
    "* B 0.50"
   ]
  },
  {
   "cell_type": "code",
   "execution_count": null,
   "metadata": {},
   "outputs": [],
   "source": []
  }
 ],
 "metadata": {
  "kernelspec": {
   "display_name": "Python 3",
   "language": "python",
   "name": "python3"
  },
  "language_info": {
   "codemirror_mode": {
    "name": "ipython",
    "version": 3
   },
   "file_extension": ".py",
   "mimetype": "text/x-python",
   "name": "python",
   "nbconvert_exporter": "python",
   "pygments_lexer": "ipython3",
   "version": "3.7.6"
  }
 },
 "nbformat": 4,
 "nbformat_minor": 4
}
